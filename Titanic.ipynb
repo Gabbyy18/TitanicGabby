! pip install scikit-learn
! pip install sklearn.tree
